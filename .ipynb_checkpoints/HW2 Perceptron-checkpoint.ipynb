{
 "cells": [
  {
   "cell_type": "code",
   "execution_count": null,
   "metadata": {
    "collapsed": false
   },
   "outputs": [],
   "source": [
    "import numpy as np\n",
    "import matplotlib.pyplot as plt\n",
    "import pandas as pd\n",
    "import re\n",
    "\n",
    "mu = 0.001\n",
    "epochs = 3\n",
    "batch_size = 20\n",
    "\n",
    "np.random.seed(0)\n",
    "\n",
    "# Read in data\n",
    "lines_data = []\n",
    "with open('new.txt', 'rt') as in_file:\n",
    "    for line in in_file:\n",
    "        lines_data.append(line.rstrip('\\n'))\n",
    "\n",
    "data_list = []\n",
    "for line in lines_data:\n",
    "    label = int(re.split(':', line)[0])\n",
    "\n",
    "    parsed_input = re.split('1:', line)[1].strip()\n",
    "    parsed_input = parsed_input.replace(\"[\", \"\")\n",
    "    parsed_input = parsed_input.replace(\"]\", \"\")\n",
    "    parsed_input_list = parsed_input.split(',')\n",
    "    inputs = [float(el) for el in parsed_input_list]\n",
    "    row = [label] + inputs\n",
    "    data_list.append(row)\n",
    "data = np.asarray(data_list)\n",
    "\n",
    "L = data[:,0] # labels of samples\n",
    "\n",
    "# Generate random weights of 256 + 256 + 256 AND 1 for initial bias\n",
    "W = np.random.random_sample((256 * 3) + 1,) - np.random.random_sample()\n",
    "\n",
    "rows = data.shape[0]\n",
    "cols = data.shape[1]\n",
    "\n",
    "print('first row')\n",
    "print(W)\n"
   ]
  },
  {
   "cell_type": "code",
   "execution_count": null,
   "metadata": {
    "collapsed": false
   },
   "outputs": [],
   "source": [
    "total_error = []\n",
    "batch_accuracy = []\n",
    "for j in range(epochs):\n",
    "    accuracy = 0\n",
    "    for i in range(batch_size):\n",
    "        charge = W[0] + np.dot(data[i, 1:], W[1:])\n",
    "        print('i: %d' % i)\n",
    "        print(\"Charge: %f\" % charge)\n",
    "        predict = 1 if charge > 0 else 0\n",
    "        print(\"Predict: %d\" % predict)\n",
    "        \n",
    "        \n",
    "        if predict == L[i]:\n",
    "            accuracy += 1\n",
    "        else:\n",
    "            Error = predict - L[i]\n",
    "            W_t = W\n",
    "            # X_t = np.concatenate([:, 1], data[i, 1:])\n",
    "            X_t  = np.concatenate(([1], data[i,1:]))\n",
    "            # W_t = np.multiply(mu, np.multiply(Error, data[i, 1:]))\n",
    "            W_t = np.multiply(mu, np.multiply(Error, X_t))\n",
    "            W = np.subtract(W, W_t)\n",
    "            total_error.append(Error)\n",
    "            print(\"Error: %f charge: %f predict: %f L[i]: %f\" % (Error, charge, predict, L[i]))\n",
    "            # plt.plot (np.arange (-2.5,2.5,0.1), -W[0]/W[2] - W[1]/W[2] * np.arange(-2.5,2.5,0.1))\n",
    "    print(\"Accuracy: %f\" % (float(accuracy) / rows))\n",
    "    \n",
    "    for count, value in enumerate(total_error):\n",
    "        plt.scatter(count, value)\n",
    "plt.show()"
   ]
  },
  {
   "cell_type": "code",
   "execution_count": null,
   "metadata": {
    "collapsed": true
   },
   "outputs": [],
   "source": []
  }
 ],
 "metadata": {
  "anaconda-cloud": {},
  "kernelspec": {
   "display_name": "Python 3",
   "language": "python",
   "name": "python3"
  },
  "language_info": {
   "codemirror_mode": {
    "name": "ipython",
    "version": 3
   },
   "file_extension": ".py",
   "mimetype": "text/x-python",
   "name": "python",
   "nbconvert_exporter": "python",
   "pygments_lexer": "ipython3",
   "version": "3.5.2"
  }
 },
 "nbformat": 4,
 "nbformat_minor": 1
}
